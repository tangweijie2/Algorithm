{
 "cells": [
  {
   "cell_type": "code",
   "execution_count": 1,
   "metadata": {},
   "outputs": [],
   "source": [
    "import numpy\n",
    "import math"
   ]
  },
  {
   "cell_type": "markdown",
   "metadata": {},
   "source": [
    "# 导入数据集"
   ]
  },
  {
   "cell_type": "code",
   "execution_count": 2,
   "metadata": {},
   "outputs": [],
   "source": [
    "def importdata(filename = 'dataset1.txt') :\n",
    "    f = open(filename,'r')\n",
    "    dataset = []\n",
    "    arr = []\n",
    "    for item in f :\n",
    "        vars = item.split()\n",
    "        dataset.append([float(vars[0]), float(vars[1]), vars[2].upper()])\n",
    "    return dataset "
   ]
  },
  {
   "cell_type": "markdown",
   "metadata": {},
   "source": [
    "# 获取不同类别的期望，方差，标准差，类别的先验概率以及变量之间的系数"
   ]
  },
  {
   "cell_type": "code",
   "execution_count": 3,
   "metadata": {},
   "outputs": [],
   "source": [
    "def getParameters(dataset) :\n",
    "    class1 = []\n",
    "    class2 = []\n",
    "    class_sum = []\n",
    "    for item in dataset :\n",
    "        class_sum.append([item[0],item[1]])\n",
    "        if item[-1] == 'F' :\n",
    "            class1.append([item[0],item[1]])\n",
    "        if item[-1] == 'M' :\n",
    "            class2.append([item[0],item[1]])\n",
    "    class1 = numpy.array(class1)\n",
    "    class2 = numpy.array(class2)\n",
    "    class_total = numpy.array(class_sum)\n",
    "    mean1 = numpy.mean(class1,axis=0)\n",
    "    variance1 = numpy.var(class1,axis=0)\n",
    "    stand_deviation1 = numpy.std(class1,axis=0)\n",
    "    mean2 = numpy.mean(class2,axis=0)\n",
    "    variance2 = numpy.var(class2,axis=0)\n",
    "    stand_deviation2 = numpy.std(class2,axis=0)\n",
    "    class_total = (len(class1) + len(class2)) * 1.0\n",
    "     \n",
    "    mean = numpy.mean(class_sum, axis=0)\n",
    "    stand_deviation = numpy.std(class_sum, axis=0)\n",
    "     \n",
    "    new_arr = [ ((item[0] - mean[0]) * (item[1] - mean[1]) / stand_deviation[0] / stand_deviation[1])  for item in dataset]\n",
    "    coefficient = numpy.mean(new_arr)\n",
    " \n",
    "    return (mean1,mean2),(variance1,variance2),(stand_deviation1, stand_deviation2),(len(class1)/class_total,len(class2)/class_total),coefficient\n",
    "      "
   ]
  },
  {
   "cell_type": "markdown",
   "metadata": {},
   "source": [
    "# 生成高斯函数"
   ]
  },
  {
   "cell_type": "code",
   "execution_count": 4,
   "metadata": {},
   "outputs": [],
   "source": [
    "def GaussianFunc(mean, variance, stand_deviation, coefficient) :\n",
    "    def func(X) :\n",
    "        X = [X[0] - mean[0], X[1] - mean[1]]\n",
    "        B = [[variance[0], coefficient * stand_deviation[0] * stand_deviation[1]],[coefficient * stand_deviation[0] * stand_deviation[1], variance[1]]]\n",
    "        inv_B = numpy.linalg.inv(B)\n",
    "        A = inv_B\n",
    "        B_val = (1.0 - coefficient**2) * variance[0] * variance[1]\n",
    "        tmp1 = 2*math.pi * (B_val ** 0.5)\n",
    "        X = numpy.array([X])\n",
    "        tmp2 = (-0.5) * numpy.dot(numpy.dot(X, A), X.T)\n",
    "        res = 1.0 / tmp1 * (math.e ** tmp2)\n",
    "        return res\n",
    "    return func"
   ]
  },
  {
   "cell_type": "markdown",
   "metadata": {},
   "source": [
    "# 贝叶斯概率计算函数"
   ]
  },
  {
   "cell_type": "code",
   "execution_count": 5,
   "metadata": {},
   "outputs": [],
   "source": [
    "def f(X, funcs, class_ps, index) :\n",
    "\n",
    "    tmp1 = funcs[index](X) * class_ps[index]\n",
    "    tmp2 = funcs[0](X) * class_ps[0] + funcs[1](X) * class_ps[1]\n",
    "    return tmp1 / tmp2"
   ]
  },
  {
   "cell_type": "markdown",
   "metadata": {},
   "source": [
    "# 基于最小错误率的贝叶斯判别分类"
   ]
  },
  {
   "cell_type": "code",
   "execution_count": 6,
   "metadata": {},
   "outputs": [],
   "source": [
    "def classify(X,funcs,class_ps,labels) :\n",
    "\n",
    "    res1 = f(X,funcs,class_ps,0)\n",
    "    res2 = f(X,funcs,class_ps,1) \n",
    "    if res1 > res2 :\n",
    "        return labels[0]\n",
    "    else :\n",
    "        return labels[1]"
   ]
  },
  {
   "cell_type": "markdown",
   "metadata": {},
   "source": [
    "# 测试"
   ]
  },
  {
   "cell_type": "code",
   "execution_count": 8,
   "metadata": {
    "scrolled": true
   },
   "outputs": [],
   "source": [
    "def test(dataset, funcs,class_ps,labels) :\n",
    "    positive0 = 0\n",
    "    positive1 = 0\n",
    "    F = [item for item in dataset if item[-1] == 'F']\n",
    "    len_F = len(F)\n",
    "    len_M = len(dataset) - len_F\n",
    "    for item in dataset :\n",
    "        res = classify([item[0],item[1]], funcs, class_ps,labels)\n",
    "        if res == item[-1] and res == 'F' :\n",
    "            positive0 += 1\n",
    "        if res == item[-1] and res == 'M' :\n",
    "            positive1 += 1\n",
    "    #print(\"total\":class_ps)\n",
    "    print(\"F\", positive0 * 1.0 / len_F)\n",
    "    print (\"M\", positive1 * 1.0 / len_M)"
   ]
  },
  {
   "cell_type": "markdown",
   "metadata": {},
   "source": [
    "# 主函数"
   ]
  },
  {
   "cell_type": "code",
   "execution_count": 15,
   "metadata": {},
   "outputs": [
    {
     "name": "stdout",
     "output_type": "stream",
     "text": [
      "------------------------\n",
      "[0.23780487804878048, 0.7621951219512195]\n",
      "---------- dataset1 ----------\n",
      "F 0.8076923076923077\n",
      "M 0.968\n",
      "---------- dataset2 ----------\n",
      "F 0.8\n",
      "M 0.9166666666666666\n",
      "---------- dataset3 ----------\n",
      "F 0.5625\n",
      "M 0.8918918918918919\n",
      "------------------------\n",
      "[0.5, 0.5]\n",
      "---------- dataset1 ----------\n",
      "F 0.8846153846153846\n",
      "M 0.92\n",
      "---------- dataset2 ----------\n",
      "F 0.85\n",
      "M 0.8690476190476191\n",
      "---------- dataset3 ----------\n",
      "F 0.6875\n",
      "M 0.8783783783783784\n",
      "------------------------\n",
      "[0.4, 0.6]\n",
      "---------- dataset1 ----------\n",
      "F 0.8717948717948718\n",
      "M 0.944\n",
      "---------- dataset2 ----------\n",
      "F 0.825\n",
      "M 0.9047619047619048\n",
      "---------- dataset3 ----------\n",
      "F 0.6875\n",
      "M 0.8918918918918919\n",
      "------------------------\n",
      "[0.3, 0.7]\n",
      "---------- dataset1 ----------\n",
      "F 0.8461538461538461\n",
      "M 0.956\n",
      "---------- dataset2 ----------\n",
      "F 0.825\n",
      "M 0.9166666666666666\n",
      "---------- dataset3 ----------\n",
      "F 0.6875\n",
      "M 0.8918918918918919\n",
      "------------------------\n",
      "[0.2, 0.8]\n",
      "---------- dataset1 ----------\n",
      "F 0.8076923076923077\n",
      "M 0.972\n",
      "---------- dataset2 ----------\n",
      "F 0.725\n",
      "M 0.9285714285714286\n",
      "---------- dataset3 ----------\n",
      "F 0.5\n",
      "M 0.8918918918918919\n"
     ]
    }
   ],
   "source": [
    "if __name__ == '__main__' :\n",
    "    dataset = importdata()\n",
    "    (mean1,mean2),(variance1,variance2),(stand_deviation1, stand_deviation2), (class1_p, class2_p), coefficient = getParameters(dataset)\n",
    "    func1 = GaussianFunc(mean1, variance1, stand_deviation1,coefficient)\n",
    "    func2 = GaussianFunc(mean2, variance2, stand_deviation2,coefficient)\n",
    "    funcs = []\n",
    "    funcs.append(func1)\n",
    "    funcs.append(func2)\n",
    "    class_ps = []\n",
    "    class_ps.append(class1_p)\n",
    "    class_ps.append(class2_p)\n",
    " \n",
    "    classs = [class_ps]\n",
    "    # 手工指定先验概率\n",
    "    classs.append([0.5,0.5])\n",
    "    classs.append([0.4,0.6])\n",
    "    classs.append([0.3,0.7])\n",
    "    classs.append([0.2,0.8])\n",
    " \n",
    "    labels = [\"F\", \"M\"]\n",
    "    for class_ps in classs :\n",
    "        print(\"-\"* 24)\n",
    "        print(class_ps)\n",
    "        print(\"-\"*10,\"dataset1\",\"-\"*10)\n",
    "        testset0 = importdata('dataset1.txt')\n",
    "        test(testset0, funcs, class_ps, labels)\n",
    "        print(\"-\"*10,\"dataset2\",\"-\"*10)\n",
    "        testset1 = importdata('dataset2.txt')\n",
    "        test(testset1, funcs, class_ps, labels)\n",
    "        print(\"-\"*10,\"dataset3\",\"-\"*10)\n",
    "        testset2 = importdata('dataset3.txt')\n",
    "        test(testset2, funcs, class_ps, labels)"
   ]
  },
  {
   "cell_type": "code",
   "execution_count": null,
   "metadata": {},
   "outputs": [],
   "source": []
  },
  {
   "cell_type": "code",
   "execution_count": null,
   "metadata": {},
   "outputs": [],
   "source": []
  }
 ],
 "metadata": {
  "kernelspec": {
   "display_name": "Python 3",
   "language": "python",
   "name": "python3"
  },
  "language_info": {
   "codemirror_mode": {
    "name": "ipython",
    "version": 3
   },
   "file_extension": ".py",
   "mimetype": "text/x-python",
   "name": "python",
   "nbconvert_exporter": "python",
   "pygments_lexer": "ipython3",
   "version": "3.6.4"
  }
 },
 "nbformat": 4,
 "nbformat_minor": 2
}
