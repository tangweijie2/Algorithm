{
 "cells": [
  {
   "cell_type": "markdown",
   "metadata": {},
   "source": [
    "# 数据生成"
   ]
  },
  {
   "cell_type": "code",
   "execution_count": 5,
   "metadata": {},
   "outputs": [],
   "source": [
    "from sklearn.datasets import make_multilabel_classification\n",
    "import numpy as np\n",
    "\n",
    "x, y = make_multilabel_classification(n_samples=20, n_features=2,\n",
    "                                      n_labels=1, n_classes=1,\n",
    "                                      random_state=2)  # 设置随机数种子，保证每次产生相同的数据。\n",
    "\n",
    "# 根据类别分个类\n",
    "index1 = np.array([index for (index, value) in enumerate(y) if value == 0])  # 获取类别1的indexs\n",
    "index2 = np.array([index for (index, value) in enumerate(y) if value == 1])  # 获取类别2的indexs\n",
    "\n",
    "c_1 = x[index1]   # 类别1的所有数据(x1, x2) in X_1\n",
    "c_2 = x[index2]  # 类别2的所有数据(x1, x2) in X_2"
   ]
  },
  {
   "cell_type": "markdown",
   "metadata": {},
   "source": [
    "# Fisher 算法实现"
   ]
  },
  {
   "cell_type": "code",
   "execution_count": 6,
   "metadata": {},
   "outputs": [],
   "source": [
    "def cal_cov_and_avg(samples):\n",
    "    \"\"\"\n",
    "    给定一个类别的数据，计算协方差矩阵和平均向量\n",
    "    \"\"\"\n",
    "    u1 = np.mean(samples, axis=0)\n",
    "    cov_m = np.zeros((samples.shape[1], samples.shape[1]))\n",
    "    for s in samples:\n",
    "        t = s - u1\n",
    "        cov_m += t * t.reshape(2, 1)\n",
    "    return cov_m, u1\n",
    "\n",
    "\n",
    "def fisher(c_1, c_2):\n",
    "    \"\"\"\n",
    "    fisher算法实现\n",
    "    \"\"\"\n",
    "    cov_1, u1 = cal_cov_and_avg(c_1)\n",
    "    cov_2, u2 = cal_cov_and_avg(c_2)\n",
    "    s_w = cov_1 + cov_2\n",
    "    u, s, v = np.linalg.svd(s_w)  # 奇异值分解\n",
    "    s_w_inv = np.dot(np.dot(v.T, np.linalg.inv(np.diag(s))), u.T)\n",
    "    return np.dot(s_w_inv, u1 - u2)"
   ]
  },
  {
   "cell_type": "markdown",
   "metadata": {},
   "source": [
    "# 类别判定"
   ]
  },
  {
   "cell_type": "code",
   "execution_count": 7,
   "metadata": {},
   "outputs": [
    {
     "name": "stdout",
     "output_type": "stream",
     "text": [
      "True\n"
     ]
    }
   ],
   "source": [
    "def judge(sample, w, c_1, c_2):\n",
    "    \"\"\"\n",
    "    true 属于1\n",
    "    false 属于2\n",
    "    \"\"\"\n",
    "    u1 = np.mean(c_1, axis=0)\n",
    "    u2 = np.mean(c_2, axis=0)\n",
    "    center_1 = np.dot(w.T, u1)\n",
    "    center_2 = np.dot(w.T, u2)\n",
    "    pos = np.dot(w.T, sample)\n",
    "    return abs(pos - center_1) < abs(pos - center_2)\n",
    "\n",
    "\n",
    "w = fisher(c_1, c_2)  # 调用函数，得到参数w\n",
    "out = judge(c_1[1], w, c_1, c_2)   # 判断所属的类别\n",
    "print(out)"
   ]
  },
  {
   "cell_type": "markdown",
   "metadata": {},
   "source": [
    "# 绘图展示"
   ]
  },
  {
   "cell_type": "code",
   "execution_count": 8,
   "metadata": {},
   "outputs": [
    {
     "data": {
      "image/png": "[encoded data removed]",
      "text/plain": [
       "<Figure size 432x288 with 1 Axes>"
      ]
     },
     "metadata": {},
     "output_type": "display_data"
    }
   ],
   "source": [
    "import matplotlib.pyplot as plt\n",
    "\n",
    "plt.scatter(c_1[:, 0], c_1[:, 1], c='#99CC99')\n",
    "plt.scatter(c_2[:, 0], c_2[:, 1], c='#FFCC00')\n",
    "line_x = np.arange(min(np.min(c_1[:, 0]), np.min(c_2[:, 0])),\n",
    "                   max(np.max(c_1[:, 0]), np.max(c_2[:, 0])),\n",
    "                   step=1)\n",
    "\n",
    "line_y = - (w[0] * line_x) / w[1]\n",
    "plt.plot(line_x, line_y)\n",
    "plt.show()"
   ]
  },
  {
   "cell_type": "code",
   "execution_count": null,
   "metadata": {},
   "outputs": [],
   "source": []
  }
 ],
 "metadata": {
  "kernelspec": {
   "display_name": "Python 3",
   "language": "python",
   "name": "python3"
  },
  "language_info": {
   "codemirror_mode": {
    "name": "ipython",
    "version": 3
   },
   "file_extension": ".py",
   "mimetype": "text/x-python",
   "name": "python",
   "nbconvert_exporter": "python",
   "pygments_lexer": "ipython3",
   "version": "3.6.5"
  }
 },
 "nbformat": 4,
 "nbformat_minor": 2
}
