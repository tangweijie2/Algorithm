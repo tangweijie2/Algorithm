{
 "cells": [
  {
   "cell_type": "code",
   "execution_count": 1,
   "metadata": {},
   "outputs": [],
   "source": [
    "import numpy as np\n",
    "import pandas as pd"
   ]
  },
  {
   "cell_type": "code",
   "execution_count": 4,
   "metadata": {},
   "outputs": [
    {
     "name": "stdout",
     "output_type": "stream",
     "text": [
      "   PassengerId  Survived  Pclass  \\\n",
      "0            1         0       3   \n",
      "1            2         1       1   \n",
      "2            3         1       3   \n",
      "3            4         1       1   \n",
      "4            5         0       3   \n",
      "\n",
      "                                                Name     Sex   Age  SibSp  \\\n",
      "0                            Braund, Mr. Owen Harris    male  22.0      1   \n",
      "1  Cumings, Mrs. John Bradley (Florence Briggs Th...  female  38.0      1   \n",
      "2                             Heikkinen, Miss. Laina  female  26.0      0   \n",
      "3       Futrelle, Mrs. Jacques Heath (Lily May Peel)  female  35.0      1   \n",
      "4                           Allen, Mr. William Henry    male  35.0      0   \n",
      "\n",
      "   Parch            Ticket     Fare Cabin Embarked  \n",
      "0      0         A/5 21171   7.2500   NaN        S  \n",
      "1      0          PC 17599  71.2833   C85        C  \n",
      "2      0  STON/O2. 3101282   7.9250   NaN        S  \n",
      "3      0            113803  53.1000  C123        S  \n",
      "4      0            373450   8.0500   NaN        S  \n",
      "     PassengerId  Survived  Pclass                                      Name  \\\n",
      "886          887         0       2                     Montvila, Rev. Juozas   \n",
      "887          888         1       1              Graham, Miss. Margaret Edith   \n",
      "888          889         0       3  Johnston, Miss. Catherine Helen \"Carrie\"   \n",
      "889          890         1       1                     Behr, Mr. Karl Howell   \n",
      "890          891         0       3                       Dooley, Mr. Patrick   \n",
      "\n",
      "        Sex   Age  SibSp  Parch      Ticket   Fare Cabin Embarked  \n",
      "886    male  27.0      0      0      211536  13.00   NaN        S  \n",
      "887  female  19.0      0      0      112053  30.00   B42        S  \n",
      "888  female   NaN      1      2  W./C. 6607  23.45   NaN        S  \n",
      "889    male  26.0      0      0      111369  30.00  C148        C  \n",
      "890    male  32.0      0      0      370376   7.75   NaN        Q  \n"
     ]
    }
   ],
   "source": [
    "T_Survival = pd.read_csv(\"train.csv\")\n",
    "print(T_Survival.head())\n",
    "print(T_Survival.tail())"
   ]
  },
  {
   "cell_type": "code",
   "execution_count": 17,
   "metadata": {},
   "outputs": [
    {
     "name": "stdout",
     "output_type": "stream",
     "text": [
      "29.69911764705882\n"
     ]
    }
   ],
   "source": [
    "#数据中NAN的处理——找到数据中所有的NAN的值\n",
    "age = T_Survival[\"Age\"]\n",
    "#print(age.loc[0:10])\n",
    "age_is_null = pd.isnull(age)\n",
    "#print(age_is_null)\n",
    "age_null_true = age[age_is_null]\n",
    "#print(age_null_true)\n",
    "#缺失值的处理\n",
    "#未处理缺失值的效果\n",
    "#mean_age = sum(T_Survival[\"Age\"])/len(T_Survival[\"Age\"])\n",
    "#print(mean_age)\n",
    "#处理之后的效果\n",
    "good_ages = T_Survival[\"Age\"][age_is_null == False]\n",
    "#print(good_ages)\n",
    "correct_mean_age = T_Survival[\"Age\"].mean()\n",
    "print(correct_mean_age)"
   ]
  },
  {
   "cell_type": "code",
   "execution_count": 46,
   "metadata": {},
   "outputs": [
    {
     "name": "stdout",
     "output_type": "stream",
     "text": [
      "        Survived\n",
      "Pclass          \n",
      "1       0.629630\n",
      "2       0.472826\n",
      "3       0.242363\n",
      "********************\n",
      "             Fare\n",
      "Pclass           \n",
      "1       84.154687\n",
      "2       20.662183\n",
      "3       13.675550\n",
      "********************\n",
      "              Age\n",
      "Pclass           \n",
      "1       38.233441\n",
      "2       29.877630\n",
      "3       25.140620\n",
      "********************\n",
      "                Fare  Survived\n",
      "Embarked                      \n",
      "C         10072.2962        93\n",
      "Q          1022.2543        30\n",
      "S         17439.3988       217\n",
      "********************\n"
     ]
    }
   ],
   "source": [
    "# 不同舱位获救的比例\n",
    "passenger_survival = T_Survival.pivot_table(index=\"Pclass\",values=\"Survived\",aggfunc=np.mean)\n",
    "print(passenger_survival)\n",
    "print(\"*\"*20)\n",
    "#每个舱位的平均票价\n",
    "fare_class = T_Survival.pivot_table(index=\"Pclass\",values=\"Fare\",aggfunc=np.mean)\n",
    "print(fare_class)\n",
    "print(\"*\"*20)\n",
    "#每个舱位的平均年龄\n",
    "passenger_age = T_Survival.pivot_table(index=\"Pclass\",values=\"Age\",aggfunc=np.mean)\n",
    "print(passenger_age)\n",
    "print(\"*\"*20)\n",
    "#总的获救人数的数量\n",
    "port_stats = T_Survival.pivot_table(index=\"Embarked\",values=[\"Fare\",\"Survived\"],aggfunc=np.sum)\n",
    "print(port_stats)\n",
    "print(\"*\"*20)"
   ]
  },
  {
   "cell_type": "code",
   "execution_count": null,
   "metadata": {},
   "outputs": [],
   "source": []
  }
 ],
 "metadata": {
  "kernelspec": {
   "display_name": "Python 3",
   "language": "python",
   "name": "python3"
  },
  "language_info": {
   "codemirror_mode": {
    "name": "ipython",
    "version": 3
   },
   "file_extension": ".py",
   "mimetype": "text/x-python",
   "name": "python",
   "nbconvert_exporter": "python",
   "pygments_lexer": "ipython3",
   "version": "3.7.1"
  }
 },
 "nbformat": 4,
 "nbformat_minor": 2
}
