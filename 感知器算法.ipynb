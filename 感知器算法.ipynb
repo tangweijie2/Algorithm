{
 "cells": [
  {
   "cell_type": "code",
   "execution_count": 1,
   "metadata": {},
   "outputs": [
    {
     "data": {
      "image/png": "[encoded data removed]",
      "text/plain": [
       "<Figure size 432x288 with 1 Axes>"
      ]
     },
     "metadata": {},
     "output_type": "display_data"
    }
   ],
   "source": [
    "import numpy as np\n",
    "import matplotlib.pyplot as plt\n",
    " \n",
    "w = [1,1,1]\n",
    "x1 =[[1,0,1],[0,1,1],[2,0,1],[2,2,1]]\n",
    "x2=[[-1,-1,1],[-1,0,1],[-2,-1,1],[0,-2,1]]\n",
    "flag = False\n",
    "while flag != True:\n",
    "    for i in range(4):\n",
    "        t = 0\n",
    "        for j in range(3):\n",
    "            t += w[j]*x1[i][j]\n",
    "        if(t <= 0):\n",
    "        for j in range(3):\n",
    "            w[j] +=x1[i][j]\n",
    "    for i in range(4):\n",
    "    t = 0\n",
    "       for j in range(3):\n",
    "        t += w[j]*x2[i][j]\n",
    "    if(t >= 0):\n",
    "           for j in range(3):\n",
    "                w[j] -=x2[i][j]\n",
    "    flag = True\n",
    "    for i in range(4):\n",
    "        t1 = 0\n",
    "        t2 = 0\n",
    "        for j in range(3):\n",
    "            t1 += w[j]*x1[i][j]\n",
    "            t2 += w[j]*x2[i][j]\n",
    "        if (t1 <=0 ):\n",
    "            flag =False\n",
    "            break\n",
    "        if(t2 >=0):\n",
    "            flag = False\n",
    "            break\n",
    "plt.figure()\n",
    "for i in range(4):\n",
    "    plt.scatter(x1[i][0],x1[i][1],c = 'r',marker='o')\n",
    "    plt.scatter(x2[i][0],x2[i][1],c = 'g',marker='*')\n",
    "plt.grid()\n",
    "p1=[-2.0,2.0]\n",
    "p2=[(-w[2]+2*w[0])/w[1],(-w[2]-2*w[0])/w[1]]\n",
    "plt.plot(p1,p2)\n",
    "plt.show()\n"
   ]
  },
  {
   "cell_type": "code",
   "execution_count": null,
   "metadata": {},
   "outputs": [],
   "source": []
  }
 ],
 "metadata": {
  "kernelspec": {
   "display_name": "Python 3",
   "language": "python",
   "name": "python3"
  },
  "language_info": {
   "codemirror_mode": {
    "name": "ipython",
    "version": 3
   },
   "file_extension": ".py",
   "mimetype": "text/x-python",
   "name": "python",
   "nbconvert_exporter": "python",
   "pygments_lexer": "ipython3",
   "version": "3.6.5"
  }
 },
 "nbformat": 4,
 "nbformat_minor": 2
}
