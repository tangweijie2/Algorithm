{
 "cells": [
  {
   "cell_type": "code",
   "execution_count": 14,
   "metadata": {},
   "outputs": [],
   "source": [
    "%matplotlib inline\n",
    "import numpy as np\n",
    "import pandas as pd\n",
    "from scipy import stats,integrate\n",
    "import matplotlib.pyplot as plt\n",
    "\n",
    "import seaborn as sns\n",
    "sns.set(color_codes =True)\n",
    "np.random.seed(sum(map(ord,\"distrbutions\")))"
   ]
  },
  {
   "cell_type": "code",
   "execution_count": 15,
   "metadata": {},
   "outputs": [
    {
     "data": {
      "text/plain": [
       "<matplotlib.axes._subplots.AxesSubplot at 0x1748d56c8d0>"
      ]
     },
     "execution_count": 15,
     "metadata": {},
     "output_type": "execute_result"
    },
    {
     "data": {
      "image/png": "[encoded data removed]",
      "text/plain": [
       "<Figure size 432x288 with 1 Axes>"
      ]
     },
     "metadata": {},
     "output_type": "display_data"
    }
   ],
   "source": [
    "x = np.random.normal(size=100)\n",
    "sns.distplot(x,kde=False)"
   ]
  },
  {
   "cell_type": "code",
   "execution_count": 16,
   "metadata": {},
   "outputs": [
    {
     "data": {
      "text/plain": [
       "<matplotlib.axes._subplots.AxesSubplot at 0x1748d68c668>"
      ]
     },
     "execution_count": 16,
     "metadata": {},
     "output_type": "execute_result"
    },
    {
     "data": {
      "image/png": "[encoded data removed]",
      "text/plain": [
       "<Figure size 432x288 with 1 Axes>"
      ]
     },
     "metadata": {},
     "output_type": "display_data"
    }
   ],
   "source": [
    "sns.distplot(x,bins=20,kde=False)"
   ]
  },
  {
   "cell_type": "markdown",
   "metadata": {},
   "source": [
    "# 数据分布情况"
   ]
  },
  {
   "cell_type": "code",
   "execution_count": 17,
   "metadata": {},
   "outputs": [
    {
     "data": {
      "text/plain": [
       "<matplotlib.axes._subplots.AxesSubplot at 0x1748d608ac8>"
      ]
     },
     "execution_count": 17,
     "metadata": {},
     "output_type": "execute_result"
    },
    {
     "data": {
      "image/png": "[encoded data removed]",
      "text/plain": [
       "<Figure size 432x288 with 1 Axes>"
      ]
     },
     "metadata": {},
     "output_type": "display_data"
    }
   ],
   "source": [
    "x = np.random.gamma(6,size=200)\n",
    "sns.distplot(x,kde=False,fit=stats.gamma)"
   ]
  },
  {
   "cell_type": "markdown",
   "metadata": {},
   "source": [
    "# 根据均值和协方差生成数据"
   ]
  },
  {
   "cell_type": "code",
   "execution_count": 18,
   "metadata": {},
   "outputs": [
    {
     "data": {
      "text/html": [
       "<div>\n",
       "<style scoped>\n",
       "    .dataframe tbody tr th:only-of-type {\n",
       "        vertical-align: middle;\n",
       "    }\n",
       "\n",
       "    .dataframe tbody tr th {\n",
       "        vertical-align: top;\n",
       "    }\n",
       "\n",
       "    .dataframe thead th {\n",
       "        text-align: right;\n",
       "    }\n",
       "</style>\n",
       "<table border=\"1\" class=\"dataframe\">\n",
       "  <thead>\n",
       "    <tr style=\"text-align: right;\">\n",
       "      <th></th>\n",
       "      <th>x</th>\n",
       "      <th>y</th>\n",
       "    </tr>\n",
       "  </thead>\n",
       "  <tbody>\n",
       "    <tr>\n",
       "      <th>0</th>\n",
       "      <td>0.245032</td>\n",
       "      <td>1.251688</td>\n",
       "    </tr>\n",
       "    <tr>\n",
       "      <th>1</th>\n",
       "      <td>-1.160912</td>\n",
       "      <td>0.224821</td>\n",
       "    </tr>\n",
       "    <tr>\n",
       "      <th>2</th>\n",
       "      <td>0.351628</td>\n",
       "      <td>0.986590</td>\n",
       "    </tr>\n",
       "    <tr>\n",
       "      <th>3</th>\n",
       "      <td>0.718457</td>\n",
       "      <td>0.811930</td>\n",
       "    </tr>\n",
       "    <tr>\n",
       "      <th>4</th>\n",
       "      <td>1.516157</td>\n",
       "      <td>4.583636</td>\n",
       "    </tr>\n",
       "    <tr>\n",
       "      <th>5</th>\n",
       "      <td>-3.519509</td>\n",
       "      <td>-0.430873</td>\n",
       "    </tr>\n",
       "    <tr>\n",
       "      <th>6</th>\n",
       "      <td>1.286937</td>\n",
       "      <td>2.191659</td>\n",
       "    </tr>\n",
       "    <tr>\n",
       "      <th>7</th>\n",
       "      <td>-0.478498</td>\n",
       "      <td>1.691154</td>\n",
       "    </tr>\n",
       "    <tr>\n",
       "      <th>8</th>\n",
       "      <td>0.509803</td>\n",
       "      <td>0.669599</td>\n",
       "    </tr>\n",
       "    <tr>\n",
       "      <th>9</th>\n",
       "      <td>-0.647316</td>\n",
       "      <td>0.245848</td>\n",
       "    </tr>\n",
       "    <tr>\n",
       "      <th>10</th>\n",
       "      <td>-0.628434</td>\n",
       "      <td>0.124679</td>\n",
       "    </tr>\n",
       "    <tr>\n",
       "      <th>11</th>\n",
       "      <td>1.750094</td>\n",
       "      <td>0.504643</td>\n",
       "    </tr>\n",
       "    <tr>\n",
       "      <th>12</th>\n",
       "      <td>-0.814183</td>\n",
       "      <td>1.407579</td>\n",
       "    </tr>\n",
       "    <tr>\n",
       "      <th>13</th>\n",
       "      <td>1.536337</td>\n",
       "      <td>2.111651</td>\n",
       "    </tr>\n",
       "    <tr>\n",
       "      <th>14</th>\n",
       "      <td>-1.138911</td>\n",
       "      <td>-0.301553</td>\n",
       "    </tr>\n",
       "    <tr>\n",
       "      <th>15</th>\n",
       "      <td>-0.042576</td>\n",
       "      <td>1.079865</td>\n",
       "    </tr>\n",
       "    <tr>\n",
       "      <th>16</th>\n",
       "      <td>0.169831</td>\n",
       "      <td>0.688553</td>\n",
       "    </tr>\n",
       "    <tr>\n",
       "      <th>17</th>\n",
       "      <td>-0.106493</td>\n",
       "      <td>1.451081</td>\n",
       "    </tr>\n",
       "    <tr>\n",
       "      <th>18</th>\n",
       "      <td>0.398785</td>\n",
       "      <td>1.160614</td>\n",
       "    </tr>\n",
       "    <tr>\n",
       "      <th>19</th>\n",
       "      <td>1.071349</td>\n",
       "      <td>1.139683</td>\n",
       "    </tr>\n",
       "    <tr>\n",
       "      <th>20</th>\n",
       "      <td>-1.019538</td>\n",
       "      <td>-0.611124</td>\n",
       "    </tr>\n",
       "    <tr>\n",
       "      <th>21</th>\n",
       "      <td>0.057631</td>\n",
       "      <td>0.450370</td>\n",
       "    </tr>\n",
       "    <tr>\n",
       "      <th>22</th>\n",
       "      <td>-0.674783</td>\n",
       "      <td>0.399929</td>\n",
       "    </tr>\n",
       "    <tr>\n",
       "      <th>23</th>\n",
       "      <td>0.594560</td>\n",
       "      <td>1.954124</td>\n",
       "    </tr>\n",
       "    <tr>\n",
       "      <th>24</th>\n",
       "      <td>-0.262266</td>\n",
       "      <td>-0.134688</td>\n",
       "    </tr>\n",
       "    <tr>\n",
       "      <th>25</th>\n",
       "      <td>0.070517</td>\n",
       "      <td>0.495262</td>\n",
       "    </tr>\n",
       "    <tr>\n",
       "      <th>26</th>\n",
       "      <td>-1.050344</td>\n",
       "      <td>-1.586597</td>\n",
       "    </tr>\n",
       "    <tr>\n",
       "      <th>27</th>\n",
       "      <td>-1.211100</td>\n",
       "      <td>1.532111</td>\n",
       "    </tr>\n",
       "    <tr>\n",
       "      <th>28</th>\n",
       "      <td>-0.271665</td>\n",
       "      <td>1.862867</td>\n",
       "    </tr>\n",
       "    <tr>\n",
       "      <th>29</th>\n",
       "      <td>-0.816345</td>\n",
       "      <td>1.821426</td>\n",
       "    </tr>\n",
       "    <tr>\n",
       "      <th>...</th>\n",
       "      <td>...</td>\n",
       "      <td>...</td>\n",
       "    </tr>\n",
       "    <tr>\n",
       "      <th>170</th>\n",
       "      <td>-0.075963</td>\n",
       "      <td>0.506942</td>\n",
       "    </tr>\n",
       "    <tr>\n",
       "      <th>171</th>\n",
       "      <td>-0.401980</td>\n",
       "      <td>0.056497</td>\n",
       "    </tr>\n",
       "    <tr>\n",
       "      <th>172</th>\n",
       "      <td>0.635838</td>\n",
       "      <td>0.679975</td>\n",
       "    </tr>\n",
       "    <tr>\n",
       "      <th>173</th>\n",
       "      <td>-0.172185</td>\n",
       "      <td>2.355079</td>\n",
       "    </tr>\n",
       "    <tr>\n",
       "      <th>174</th>\n",
       "      <td>-0.659494</td>\n",
       "      <td>-0.941548</td>\n",
       "    </tr>\n",
       "    <tr>\n",
       "      <th>175</th>\n",
       "      <td>0.610931</td>\n",
       "      <td>0.319680</td>\n",
       "    </tr>\n",
       "    <tr>\n",
       "      <th>176</th>\n",
       "      <td>0.851391</td>\n",
       "      <td>1.221480</td>\n",
       "    </tr>\n",
       "    <tr>\n",
       "      <th>177</th>\n",
       "      <td>-1.039935</td>\n",
       "      <td>0.772555</td>\n",
       "    </tr>\n",
       "    <tr>\n",
       "      <th>178</th>\n",
       "      <td>-0.938106</td>\n",
       "      <td>1.171136</td>\n",
       "    </tr>\n",
       "    <tr>\n",
       "      <th>179</th>\n",
       "      <td>-0.794598</td>\n",
       "      <td>0.595543</td>\n",
       "    </tr>\n",
       "    <tr>\n",
       "      <th>180</th>\n",
       "      <td>2.071595</td>\n",
       "      <td>2.932851</td>\n",
       "    </tr>\n",
       "    <tr>\n",
       "      <th>181</th>\n",
       "      <td>-0.176816</td>\n",
       "      <td>1.190531</td>\n",
       "    </tr>\n",
       "    <tr>\n",
       "      <th>182</th>\n",
       "      <td>-0.745218</td>\n",
       "      <td>-1.332377</td>\n",
       "    </tr>\n",
       "    <tr>\n",
       "      <th>183</th>\n",
       "      <td>0.926338</td>\n",
       "      <td>1.464786</td>\n",
       "    </tr>\n",
       "    <tr>\n",
       "      <th>184</th>\n",
       "      <td>-0.329228</td>\n",
       "      <td>0.207138</td>\n",
       "    </tr>\n",
       "    <tr>\n",
       "      <th>185</th>\n",
       "      <td>-0.166290</td>\n",
       "      <td>2.067444</td>\n",
       "    </tr>\n",
       "    <tr>\n",
       "      <th>186</th>\n",
       "      <td>0.845228</td>\n",
       "      <td>1.458827</td>\n",
       "    </tr>\n",
       "    <tr>\n",
       "      <th>187</th>\n",
       "      <td>-1.640772</td>\n",
       "      <td>1.354426</td>\n",
       "    </tr>\n",
       "    <tr>\n",
       "      <th>188</th>\n",
       "      <td>0.924655</td>\n",
       "      <td>1.783320</td>\n",
       "    </tr>\n",
       "    <tr>\n",
       "      <th>189</th>\n",
       "      <td>-0.455222</td>\n",
       "      <td>0.326148</td>\n",
       "    </tr>\n",
       "    <tr>\n",
       "      <th>190</th>\n",
       "      <td>1.985845</td>\n",
       "      <td>2.258718</td>\n",
       "    </tr>\n",
       "    <tr>\n",
       "      <th>191</th>\n",
       "      <td>-0.058534</td>\n",
       "      <td>0.395547</td>\n",
       "    </tr>\n",
       "    <tr>\n",
       "      <th>192</th>\n",
       "      <td>0.029042</td>\n",
       "      <td>0.875443</td>\n",
       "    </tr>\n",
       "    <tr>\n",
       "      <th>193</th>\n",
       "      <td>0.327238</td>\n",
       "      <td>1.794961</td>\n",
       "    </tr>\n",
       "    <tr>\n",
       "      <th>194</th>\n",
       "      <td>1.293625</td>\n",
       "      <td>2.225742</td>\n",
       "    </tr>\n",
       "    <tr>\n",
       "      <th>195</th>\n",
       "      <td>0.664396</td>\n",
       "      <td>2.031643</td>\n",
       "    </tr>\n",
       "    <tr>\n",
       "      <th>196</th>\n",
       "      <td>1.294333</td>\n",
       "      <td>2.680193</td>\n",
       "    </tr>\n",
       "    <tr>\n",
       "      <th>197</th>\n",
       "      <td>0.376548</td>\n",
       "      <td>0.266023</td>\n",
       "    </tr>\n",
       "    <tr>\n",
       "      <th>198</th>\n",
       "      <td>0.574489</td>\n",
       "      <td>2.049231</td>\n",
       "    </tr>\n",
       "    <tr>\n",
       "      <th>199</th>\n",
       "      <td>0.185025</td>\n",
       "      <td>0.468006</td>\n",
       "    </tr>\n",
       "  </tbody>\n",
       "</table>\n",
       "<p>200 rows × 2 columns</p>\n",
       "</div>"
      ],
      "text/plain": [
       "            x         y\n",
       "0    0.245032  1.251688\n",
       "1   -1.160912  0.224821\n",
       "2    0.351628  0.986590\n",
       "3    0.718457  0.811930\n",
       "4    1.516157  4.583636\n",
       "5   -3.519509 -0.430873\n",
       "6    1.286937  2.191659\n",
       "7   -0.478498  1.691154\n",
       "8    0.509803  0.669599\n",
       "9   -0.647316  0.245848\n",
       "10  -0.628434  0.124679\n",
       "11   1.750094  0.504643\n",
       "12  -0.814183  1.407579\n",
       "13   1.536337  2.111651\n",
       "14  -1.138911 -0.301553\n",
       "15  -0.042576  1.079865\n",
       "16   0.169831  0.688553\n",
       "17  -0.106493  1.451081\n",
       "18   0.398785  1.160614\n",
       "19   1.071349  1.139683\n",
       "20  -1.019538 -0.611124\n",
       "21   0.057631  0.450370\n",
       "22  -0.674783  0.399929\n",
       "23   0.594560  1.954124\n",
       "24  -0.262266 -0.134688\n",
       "25   0.070517  0.495262\n",
       "26  -1.050344 -1.586597\n",
       "27  -1.211100  1.532111\n",
       "28  -0.271665  1.862867\n",
       "29  -0.816345  1.821426\n",
       "..        ...       ...\n",
       "170 -0.075963  0.506942\n",
       "171 -0.401980  0.056497\n",
       "172  0.635838  0.679975\n",
       "173 -0.172185  2.355079\n",
       "174 -0.659494 -0.941548\n",
       "175  0.610931  0.319680\n",
       "176  0.851391  1.221480\n",
       "177 -1.039935  0.772555\n",
       "178 -0.938106  1.171136\n",
       "179 -0.794598  0.595543\n",
       "180  2.071595  2.932851\n",
       "181 -0.176816  1.190531\n",
       "182 -0.745218 -1.332377\n",
       "183  0.926338  1.464786\n",
       "184 -0.329228  0.207138\n",
       "185 -0.166290  2.067444\n",
       "186  0.845228  1.458827\n",
       "187 -1.640772  1.354426\n",
       "188  0.924655  1.783320\n",
       "189 -0.455222  0.326148\n",
       "190  1.985845  2.258718\n",
       "191 -0.058534  0.395547\n",
       "192  0.029042  0.875443\n",
       "193  0.327238  1.794961\n",
       "194  1.293625  2.225742\n",
       "195  0.664396  2.031643\n",
       "196  1.294333  2.680193\n",
       "197  0.376548  0.266023\n",
       "198  0.574489  2.049231\n",
       "199  0.185025  0.468006\n",
       "\n",
       "[200 rows x 2 columns]"
      ]
     },
     "execution_count": 18,
     "metadata": {},
     "output_type": "execute_result"
    }
   ],
   "source": [
    "mean,cov =[0,1],[(1,.5),(.5,1)]\n",
    "data = np.random.multivariate_normal(mean,cov,200)\n",
    "df = pd.DataFrame(data,columns=[\"x\",\"y\"])\n",
    "df"
   ]
  },
  {
   "cell_type": "markdown",
   "metadata": {},
   "source": [
    "# 观测两个变量之间的分布关系最好用散点图"
   ]
  },
  {
   "cell_type": "code",
   "execution_count": 19,
   "metadata": {},
   "outputs": [
    {
     "data": {
      "text/plain": [
       "<seaborn.axisgrid.JointGrid at 0x1748d58ceb8>"
      ]
     },
     "execution_count": 19,
     "metadata": {},
     "output_type": "execute_result"
    },
    {
     "data": {
      "image/png": "[encoded data removed]",
      "text/plain": [
       "<Figure size 432x432 with 3 Axes>"
      ]
     },
     "metadata": {},
     "output_type": "display_data"
    }
   ],
   "source": [
    "sns.jointplot(x=\"x\",y=\"y\",data=df)"
   ]
  },
  {
   "cell_type": "code",
   "execution_count": 20,
   "metadata": {},
   "outputs": [
    {
     "data": {
      "image/png": "[encoded data removed]",
      "text/plain": [
       "<Figure size 432x432 with 3 Axes>"
      ]
     },
     "metadata": {},
     "output_type": "display_data"
    }
   ],
   "source": [
    "x,y = np.random.multivariate_normal(mean,cov,1000).T\n",
    "with sns.axes_style(\"white\"):\n",
    "    sns.jointplot(x=x,y=y,kind=\"hex\",color=\"k\")"
   ]
  },
  {
   "cell_type": "markdown",
   "metadata": {},
   "source": [
    "regplot()和implot()都可以绘制回归关系，推荐使用regplot\n",
    "- sns.regplot(x=\"\",y=\"\",data=  )\n"
   ]
  }
 ],
 "metadata": {
  "kernelspec": {
   "display_name": "Python 3",
   "language": "python",
   "name": "python3"
  },
  "language_info": {
   "codemirror_mode": {
    "name": "ipython",
    "version": 3
   },
   "file_extension": ".py",
   "mimetype": "text/x-python",
   "name": "python",
   "nbconvert_exporter": "python",
   "pygments_lexer": "ipython3",
   "version": "3.7.1"
  }
 },
 "nbformat": 4,
 "nbformat_minor": 2
}
