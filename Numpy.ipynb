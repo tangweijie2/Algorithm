{
 "cells": [
  {
   "cell_type": "code",
   "execution_count": 3,
   "metadata": {},
   "outputs": [],
   "source": [
    "import numpy as np"
   ]
  },
  {
   "cell_type": "markdown",
   "metadata": {},
   "source": [
    "- 读取数据\n",
    "np.genfromtxt(\"\",delimiter=\",\",dtype=str)\n",
    "- 查看帮助文档\n",
    "print(help(numpy.genfromtxt))\n",
    "- 查看结构\n",
    "vector = numpy.array([1,2,3,4])\n",
    "print(vector.shape)\n",
    "vector.dtype\n",
    "- Numpy里面的值都必须是一样的，所有的值都必须是同一种类型的\n",
    "- 精度低的转换成精度高的"
   ]
  },
  {
   "cell_type": "code",
   "execution_count": 6,
   "metadata": {},
   "outputs": [
    {
     "name": "stdout",
     "output_type": "stream",
     "text": [
      "[False  True False]\n",
      "[[20 25 30]]\n"
     ]
    }
   ],
   "source": [
    "#打印出包含第二列包含25的所有列\n",
    "matrix = np.array([\n",
    "    [5,10,15],\n",
    "    [20,25,30],\n",
    "    [35,40,45]\n",
    "])\n",
    "second_colum_25 = (matrix[:,1] == 25) & (matrix[1,:]==25)\n",
    "print(second_colum_25)\n",
    "print(matrix[second_colum_25,:])"
   ]
  },
  {
   "cell_type": "code",
   "execution_count": 7,
   "metadata": {},
   "outputs": [
    {
     "data": {
      "text/plain": [
       "array([ 30,  75, 120])"
      ]
     },
     "execution_count": 7,
     "metadata": {},
     "output_type": "execute_result"
    }
   ],
   "source": [
    "# numpy的计算\n",
    "matrix = np.array([\n",
    "    [5,10,15],\n",
    "    [20,25,30],\n",
    "    [35,40,45]\n",
    "])\n",
    "matrix.sum(axis=1)"
   ]
  },
  {
   "cell_type": "code",
   "execution_count": 8,
   "metadata": {},
   "outputs": [
    {
     "data": {
      "text/plain": [
       "array([60, 75, 90])"
      ]
     },
     "execution_count": 8,
     "metadata": {},
     "output_type": "execute_result"
    }
   ],
   "source": [
    "# numpy的计算\n",
    "matrix = np.array([\n",
    "    [5,10,15],\n",
    "    [20,25,30],\n",
    "    [35,40,45]\n",
    "])\n",
    "matrix.sum(axis=0)"
   ]
  },
  {
   "cell_type": "code",
   "execution_count": 15,
   "metadata": {},
   "outputs": [
    {
     "name": "stdout",
     "output_type": "stream",
     "text": [
      "[ 0  1  2  3  4  5  6  7  8  9 10 11 12 13 14]\n",
      "[[ 0  1  2  3  4]\n",
      " [ 5  6  7  8  9]\n",
      " [10 11 12 13 14]]\n"
     ]
    }
   ],
   "source": [
    "# 矩阵变换\n",
    "a = np.arange(15)\n",
    "print(a)\n",
    "a =a.reshape(3,5)\n",
    "print(a)"
   ]
  },
  {
   "cell_type": "code",
   "execution_count": 16,
   "metadata": {},
   "outputs": [
    {
     "data": {
      "text/plain": [
       "array([10, 15, 20, 25])"
      ]
     },
     "execution_count": 16,
     "metadata": {},
     "output_type": "execute_result"
    }
   ],
   "source": [
    "np.arange(10,30,5)"
   ]
  },
  {
   "cell_type": "code",
   "execution_count": 18,
   "metadata": {},
   "outputs": [
    {
     "data": {
      "text/plain": [
       "array([[0.52810223, 0.73369539, 0.72207414],\n",
       "       [0.96107734, 0.53353839, 0.43282634]])"
      ]
     },
     "execution_count": 18,
     "metadata": {},
     "output_type": "execute_result"
    }
   ],
   "source": [
    "# 随机模块\n",
    "np.random.random((2,3))"
   ]
  },
  {
   "cell_type": "code",
   "execution_count": 19,
   "metadata": {},
   "outputs": [
    {
     "data": {
      "text/plain": [
       "array([0.        , 0.06346652, 0.12693304, 0.19039955, 0.25386607,\n",
       "       0.31733259, 0.38079911, 0.44426563, 0.50773215, 0.57119866,\n",
       "       0.63466518, 0.6981317 , 0.76159822, 0.82506474, 0.88853126,\n",
       "       0.95199777, 1.01546429, 1.07893081, 1.14239733, 1.20586385,\n",
       "       1.26933037, 1.33279688, 1.3962634 , 1.45972992, 1.52319644,\n",
       "       1.58666296, 1.65012947, 1.71359599, 1.77706251, 1.84052903,\n",
       "       1.90399555, 1.96746207, 2.03092858, 2.0943951 , 2.15786162,\n",
       "       2.22132814, 2.28479466, 2.34826118, 2.41172769, 2.47519421,\n",
       "       2.53866073, 2.60212725, 2.66559377, 2.72906028, 2.7925268 ,\n",
       "       2.85599332, 2.91945984, 2.98292636, 3.04639288, 3.10985939,\n",
       "       3.17332591, 3.23679243, 3.30025895, 3.36372547, 3.42719199,\n",
       "       3.4906585 , 3.55412502, 3.61759154, 3.68105806, 3.74452458,\n",
       "       3.8079911 , 3.87145761, 3.93492413, 3.99839065, 4.06185717,\n",
       "       4.12532369, 4.1887902 , 4.25225672, 4.31572324, 4.37918976,\n",
       "       4.44265628, 4.5061228 , 4.56958931, 4.63305583, 4.69652235,\n",
       "       4.75998887, 4.82345539, 4.88692191, 4.95038842, 5.01385494,\n",
       "       5.07732146, 5.14078798, 5.2042545 , 5.26772102, 5.33118753,\n",
       "       5.39465405, 5.45812057, 5.52158709, 5.58505361, 5.64852012,\n",
       "       5.71198664, 5.77545316, 5.83891968, 5.9023862 , 5.96585272,\n",
       "       6.02931923, 6.09278575, 6.15625227, 6.21971879, 6.28318531])"
      ]
     },
     "execution_count": 19,
     "metadata": {},
     "output_type": "execute_result"
    }
   ],
   "source": [
    "from numpy import pi\n",
    "np.linspace(0,2*pi,100)"
   ]
  },
  {
   "cell_type": "code",
   "execution_count": 20,
   "metadata": {},
   "outputs": [
    {
     "data": {
      "text/plain": [
       "array([ 0.00000000e+00,  6.34239197e-02,  1.26592454e-01,  1.89251244e-01,\n",
       "        2.51147987e-01,  3.12033446e-01,  3.71662456e-01,  4.29794912e-01,\n",
       "        4.86196736e-01,  5.40640817e-01,  5.92907929e-01,  6.42787610e-01,\n",
       "        6.90079011e-01,  7.34591709e-01,  7.76146464e-01,  8.14575952e-01,\n",
       "        8.49725430e-01,  8.81453363e-01,  9.09631995e-01,  9.34147860e-01,\n",
       "        9.54902241e-01,  9.71811568e-01,  9.84807753e-01,  9.93838464e-01,\n",
       "        9.98867339e-01,  9.99874128e-01,  9.96854776e-01,  9.89821442e-01,\n",
       "        9.78802446e-01,  9.63842159e-01,  9.45000819e-01,  9.22354294e-01,\n",
       "        8.95993774e-01,  8.66025404e-01,  8.32569855e-01,  7.95761841e-01,\n",
       "        7.55749574e-01,  7.12694171e-01,  6.66769001e-01,  6.18158986e-01,\n",
       "        5.67059864e-01,  5.13677392e-01,  4.58226522e-01,  4.00930535e-01,\n",
       "        3.42020143e-01,  2.81732557e-01,  2.20310533e-01,  1.58001396e-01,\n",
       "        9.50560433e-02,  3.17279335e-02, -3.17279335e-02, -9.50560433e-02,\n",
       "       -1.58001396e-01, -2.20310533e-01, -2.81732557e-01, -3.42020143e-01,\n",
       "       -4.00930535e-01, -4.58226522e-01, -5.13677392e-01, -5.67059864e-01,\n",
       "       -6.18158986e-01, -6.66769001e-01, -7.12694171e-01, -7.55749574e-01,\n",
       "       -7.95761841e-01, -8.32569855e-01, -8.66025404e-01, -8.95993774e-01,\n",
       "       -9.22354294e-01, -9.45000819e-01, -9.63842159e-01, -9.78802446e-01,\n",
       "       -9.89821442e-01, -9.96854776e-01, -9.99874128e-01, -9.98867339e-01,\n",
       "       -9.93838464e-01, -9.84807753e-01, -9.71811568e-01, -9.54902241e-01,\n",
       "       -9.34147860e-01, -9.09631995e-01, -8.81453363e-01, -8.49725430e-01,\n",
       "       -8.14575952e-01, -7.76146464e-01, -7.34591709e-01, -6.90079011e-01,\n",
       "       -6.42787610e-01, -5.92907929e-01, -5.40640817e-01, -4.86196736e-01,\n",
       "       -4.29794912e-01, -3.71662456e-01, -3.12033446e-01, -2.51147987e-01,\n",
       "       -1.89251244e-01, -1.26592454e-01, -6.34239197e-02, -2.44929360e-16])"
      ]
     },
     "execution_count": 20,
     "metadata": {},
     "output_type": "execute_result"
    }
   ],
   "source": [
    "np.sin(np.linspace(0,2*pi,100))"
   ]
  },
  {
   "cell_type": "code",
   "execution_count": 21,
   "metadata": {},
   "outputs": [
    {
     "name": "stdout",
     "output_type": "stream",
     "text": [
      "[20 30 40 50]\n",
      "[0 1 2 3]\n",
      "[20 29 38 47]\n",
      "[19 28 37 46]\n",
      "[0 1 4 9]\n",
      "[ True  True False False]\n"
     ]
    }
   ],
   "source": [
    "# numpy的计算\n",
    "a = np.array([20,30,40,50])\n",
    "b = np.arange(4)\n",
    "print(a)\n",
    "print(b)\n",
    "\n",
    "c = a-b\n",
    "print(c)\n",
    "\n",
    "c= c-1\n",
    "print(c)\n",
    "\n",
    "c = b**2\n",
    "print(c)\n",
    "print(a<35)"
   ]
  },
  {
   "cell_type": "code",
   "execution_count": 26,
   "metadata": {},
   "outputs": [
    {
     "name": "stdout",
     "output_type": "stream",
     "text": [
      "[[1 1]\n",
      " [0 1]]\n",
      "********************\n",
      "[[2 0]\n",
      " [3 4]]\n",
      "********************\n",
      "[[2 0]\n",
      " [0 4]]\n",
      "********************\n",
      "[[5 4]\n",
      " [3 4]]\n",
      "********************\n",
      "[[5 4]\n",
      " [3 4]]\n"
     ]
    }
   ],
   "source": [
    "A = np.array([[1,1],\n",
    "              [0,1]])\n",
    "B = np.array([[2,0],\n",
    "              [3,4]])\n",
    "\n",
    "print(A)\n",
    "print(\"*\"*20)\n",
    "print(B)\n",
    "print(\"*\"*20)\n",
    "print(A*B)\n",
    "print(\"*\"*20)\n",
    "#矩阵相乘计算\n",
    "print(A. dot(B))\n",
    "print(\"*\"*20)\n",
    "#矩阵相乘计算\n",
    "print(np.dot(A,B))"
   ]
  },
  {
   "cell_type": "code",
   "execution_count": 28,
   "metadata": {},
   "outputs": [
    {
     "name": "stdout",
     "output_type": "stream",
     "text": [
      "[0 1 2]\n",
      "[1.         2.71828183 7.3890561 ]\n",
      "[0.         1.         1.41421356]\n"
     ]
    }
   ],
   "source": [
    "C = np.arange(3)\n",
    "print(C)\n",
    "print(np.exp(C))\n",
    "print(np.sqrt(C))"
   ]
  },
  {
   "cell_type": "code",
   "execution_count": 48,
   "metadata": {},
   "outputs": [
    {
     "name": "stdout",
     "output_type": "stream",
     "text": [
      "[[4. 3. 0. 8.]\n",
      " [3. 3. 6. 6.]\n",
      " [1. 9. 3. 1.]]\n",
      "[4. 3. 0. 8. 3. 3. 6. 6. 1. 9. 3. 1.]\n",
      "[[4. 3.]\n",
      " [0. 8.]\n",
      " [3. 3.]\n",
      " [6. 6.]\n",
      " [1. 9.]\n",
      " [3. 1.]]\n",
      "[[4. 0. 3. 6. 1. 3.]\n",
      " [3. 8. 3. 6. 9. 1.]]\n"
     ]
    }
   ],
   "source": [
    "#向下取整\n",
    "a = np.floor(10*np.random.random((3,4)))\n",
    "print(a)\n",
    "# 矩阵转换为一个向量\n",
    "print(a.ravel())\n",
    "a.shape = (6,2)\n",
    "b = a\n",
    "print(b)\n",
    "print(b.T)"
   ]
  },
  {
   "cell_type": "code",
   "execution_count": 55,
   "metadata": {},
   "outputs": [
    {
     "name": "stdout",
     "output_type": "stream",
     "text": [
      "[[1. 8.]\n",
      " [4. 0.]]\n",
      "********************\n",
      "[[1. 6.]\n",
      " [5. 0.]]\n",
      "********************\n",
      "[[1. 8. 1. 6.]\n",
      " [4. 0. 5. 0.]]\n",
      "********************\n",
      "[[1. 8.]\n",
      " [4. 0.]\n",
      " [1. 6.]\n",
      " [5. 0.]]\n"
     ]
    }
   ],
   "source": [
    "# 矩阵的拼接\n",
    "a = np.floor(10*np.random.random((2,2)))\n",
    "b = np.floor(10*np.random.random((2,2)))\n",
    "print(a)\n",
    "print(\"*\"*20)\n",
    "print(b)\n",
    "print(\"*\"*20)\n",
    "#横向拼接\n",
    "print(np.hstack((a,b)))\n",
    "print(\"*\"*20)\n",
    "#纵向拼接\n",
    "print(np.vstack((a,b)))"
   ]
  },
  {
   "cell_type": "code",
   "execution_count": 57,
   "metadata": {},
   "outputs": [
    {
     "name": "stdout",
     "output_type": "stream",
     "text": [
      "[[4. 8. 3. 4. 9. 0. 4. 7. 7. 4. 8. 0.]\n",
      " [6. 5. 0. 7. 9. 0. 6. 0. 3. 8. 1. 1.]]\n",
      "****************************************\n",
      "[array([[4., 8., 3., 4.],\n",
      "       [6., 5., 0., 7.]]), array([[9., 0., 4., 7.],\n",
      "       [9., 0., 6., 0.]]), array([[7., 4., 8., 0.],\n",
      "       [3., 8., 1., 1.]])]\n",
      "****************************************\n",
      "[array([[4., 8., 3.],\n",
      "       [6., 5., 0.]]), array([[4.],\n",
      "       [7.]]), array([[9., 0., 4., 7., 7., 4., 8., 0.],\n",
      "       [9., 0., 6., 0., 3., 8., 1., 1.]])]\n",
      "****************************************\n",
      "[[0. 5.]\n",
      " [5. 1.]\n",
      " [5. 0.]\n",
      " [0. 5.]\n",
      " [2. 5.]\n",
      " [7. 8.]\n",
      " [1. 2.]\n",
      " [4. 4.]\n",
      " [8. 4.]\n",
      " [4. 6.]\n",
      " [4. 4.]\n",
      " [1. 0.]]\n"
     ]
    },
    {
     "data": {
      "text/plain": [
       "[array([[0., 5.],\n",
       "        [5., 1.],\n",
       "        [5., 0.],\n",
       "        [0., 5.]]), array([[2., 5.],\n",
       "        [7., 8.],\n",
       "        [1., 2.],\n",
       "        [4., 4.]]), array([[8., 4.],\n",
       "        [4., 6.],\n",
       "        [4., 4.],\n",
       "        [1., 0.]])]"
      ]
     },
     "execution_count": 57,
     "metadata": {},
     "output_type": "execute_result"
    }
   ],
   "source": [
    "#切分矩阵\n",
    "a = np.floor(10*np.random.random((2,12)))\n",
    "print(a)\n",
    "print(\"*\"*40)\n",
    "print(np.hsplit(a,3))\n",
    "print(\"*\"*40)\n",
    "print(np.hsplit(a,(3,4)))\n",
    "a = np.floor(10*np.random.random((12,2)))\n",
    "print(\"*\"*40)\n",
    "print(a)\n",
    "np.vsplit(a,3)"
   ]
  },
  {
   "cell_type": "code",
   "execution_count": 58,
   "metadata": {},
   "outputs": [
    {
     "name": "stdout",
     "output_type": "stream",
     "text": [
      "True\n",
      "1527973440928\n",
      "1527973440928\n"
     ]
    }
   ],
   "source": [
    "# 赋值问题\n",
    "a = np.arange(12)\n",
    "b = a\n",
    "print(b is a )\n",
    "b.shape = 3,4\n",
    "print(id(a))\n",
    "print(id(b))"
   ]
  },
  {
   "cell_type": "code",
   "execution_count": 60,
   "metadata": {},
   "outputs": [
    {
     "name": "stdout",
     "output_type": "stream",
     "text": [
      "False\n",
      "[[   0    1    2    3 1234    5]\n",
      " [   6    7    8    9   10   11]]\n",
      "[[   0    1    2    3]\n",
      " [1234    5    6    7]\n",
      " [   8    9   10   11]]\n",
      "1527973440928\n",
      "1527973473296\n"
     ]
    }
   ],
   "source": [
    "# 浅赋值\n",
    "c = a.view()\n",
    "print(c is a)\n",
    "c.shape = 2,6\n",
    "print(c)\n",
    "c[0,4]=1234\n",
    "print(a)\n",
    "print(id(a))\n",
    "print(id(c))"
   ]
  },
  {
   "cell_type": "code",
   "execution_count": 61,
   "metadata": {},
   "outputs": [
    {
     "name": "stdout",
     "output_type": "stream",
     "text": [
      "[[9999    1    2    3]\n",
      " [1234    5    6    7]\n",
      " [   8    9   10   11]]\n",
      "[[   0    1    2    3]\n",
      " [1234    5    6    7]\n",
      " [   8    9   10   11]]\n"
     ]
    }
   ],
   "source": [
    "d = a.copy()\n",
    "d is a \n",
    "d[0,0] = 9999\n",
    "print(d)\n",
    "print(a)"
   ]
  },
  {
   "cell_type": "code",
   "execution_count": 63,
   "metadata": {},
   "outputs": [
    {
     "name": "stdout",
     "output_type": "stream",
     "text": [
      "[[ 0.          0.84147098  0.90929743  0.14112001]\n",
      " [-0.7568025  -0.95892427 -0.2794155   0.6569866 ]\n",
      " [ 0.98935825  0.41211849 -0.54402111 -0.99999021]\n",
      " [-0.53657292  0.42016704  0.99060736  0.65028784]\n",
      " [-0.28790332 -0.96139749 -0.75098725  0.14987721]]\n",
      "[2 0 3 1]\n",
      "[0.98935825 0.84147098 0.99060736 0.6569866 ]\n"
     ]
    }
   ],
   "source": [
    "#排序\n",
    "data = np.sin(np.arange(20)).reshape(5,4)\n",
    "print(data)\n",
    "ind = data.argmax(axis=0)\n",
    "print(ind)\n",
    "data_max = data[ind,range(data.shape[1])]\n",
    "print(data_max)"
   ]
  },
  {
   "cell_type": "code",
   "execution_count": 65,
   "metadata": {},
   "outputs": [
    {
     "name": "stdout",
     "output_type": "stream",
     "text": [
      "[ 0 10 20 30]\n",
      "[[ 0 10 20 30  0 10 20 30]\n",
      " [ 0 10 20 30  0 10 20 30]]\n"
     ]
    }
   ],
   "source": [
    "# 矩阵的扩展\n",
    "a = np.arange(0,40,10)\n",
    "print(a)\n",
    "b = np.tile(a,(2,2))\n",
    "print(b)"
   ]
  },
  {
   "cell_type": "code",
   "execution_count": 69,
   "metadata": {},
   "outputs": [
    {
     "name": "stdout",
     "output_type": "stream",
     "text": [
      "[[4 3 5]\n",
      " [1 2 1]]\n",
      "********************\n",
      "[[3 4 5]\n",
      " [1 1 2]]\n",
      "********************\n",
      "[[3 4 5]\n",
      " [1 1 2]]\n",
      "********************\n",
      "[2 3 1 0]\n",
      "********************\n",
      "[1 2 3 4]\n"
     ]
    }
   ],
   "source": [
    "a = np.array([[4,3,5],[1,2,1]])\n",
    "print(a)\n",
    "print(\"*\"*20)\n",
    "b = np.sort(a,axis=1)\n",
    "print(b)\n",
    "\n",
    "a.sort(axis=1)\n",
    "print(\"*\"*20)\n",
    "print(a)\n",
    "a = np.array([4,3,1,2])\n",
    "#求索引\n",
    "j = np.argsort(a)\n",
    "print(\"*\"*20)\n",
    "print(j)\n",
    "print(\"*\"*20)\n",
    "print(a[j])"
   ]
  },
  {
   "cell_type": "code",
   "execution_count": null,
   "metadata": {},
   "outputs": [],
   "source": []
  }
 ],
 "metadata": {
  "kernelspec": {
   "display_name": "Python 3",
   "language": "python",
   "name": "python3"
  },
  "language_info": {
   "codemirror_mode": {
    "name": "ipython",
    "version": 3
   },
   "file_extension": ".py",
   "mimetype": "text/x-python",
   "name": "python",
   "nbconvert_exporter": "python",
   "pygments_lexer": "ipython3",
   "version": "3.7.1"
  }
 },
 "nbformat": 4,
 "nbformat_minor": 2
}
