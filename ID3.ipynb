{
 "cells": [
  {
   "cell_type": "markdown",
   "metadata": {},
   "source": [
    "# 数据输入"
   ]
  },
  {
   "cell_type": "code",
   "execution_count": 1,
   "metadata": {},
   "outputs": [],
   "source": [
    "titles = ['Outlook', 'Temperature', 'Humidity', 'Wind', 'PlayTennis']\n",
    "dataset = [\n",
    "['Sunny', 'Hot', 'High', 'Weak', 'no'],\n",
    "['Sunny', 'Hot', 'High', 'Strong', 'no'],\n",
    "['Overcast', 'Hot', 'High', 'Weak', 'yes'],\n",
    "['Rainy', 'Mild', 'High', 'Weak', 'yes'],\n",
    "['Rainy', 'Cool', 'Normal', 'Weak', 'yes'],\n",
    "['Rainy', 'Cool', 'Normal', 'Strong', 'no'],\n",
    "['Overcast', 'Cool', 'Normal', 'Strong', 'yes'],\n",
    "['Sunny', 'Mild', 'High', 'Weak', 'no'],\n",
    "['Sunny', 'Cool', 'Normal', 'Weak', 'yes'],\n",
    "['Rainy', 'Mild', 'Normal', 'Weak', 'yes'],\n",
    "['Sunny', 'Mild', 'Normal', 'Strong', 'yes'],\n",
    "['Overcast', 'Mild', 'High', 'Strong', 'yes'], \n",
    "['Overcast', 'Hot', 'Normal', 'Weak', 'yes'],\n",
    "['Rainy', 'Mild', 'High', 'Strong', 'no']\n",
    "]"
   ]
  },
  {
   "cell_type": "markdown",
   "metadata": {},
   "source": [
    "# ID3,（单位以2为底）"
   ]
  },
  {
   "cell_type": "code",
   "execution_count": 2,
   "metadata": {},
   "outputs": [],
   "source": [
    "import math\n",
    "\n",
    "def log2(n):\n",
    "    return math.log(n)/math.log(2)"
   ]
  },
  {
   "cell_type": "markdown",
   "metadata": {},
   "source": [
    "# 根据下标划分子集 "
   ]
  },
  {
   "cell_type": "code",
   "execution_count": 3,
   "metadata": {},
   "outputs": [],
   "source": [
    "def classify(data, index):\n",
    "    a = {}\n",
    "    for ls in data:\n",
    "        try:\n",
    "            a[ls[index]].append(ls)\n",
    "        except:\n",
    "            a[ls[index]] = [ls]\n",
    "    return a"
   ]
  },
  {
   "cell_type": "markdown",
   "metadata": {},
   "source": [
    "# 计算信息熵(公式）"
   ]
  },
  {
   "cell_type": "code",
   "execution_count": 4,
   "metadata": {},
   "outputs": [],
   "source": [
    "def entropy(data, index):\n",
    "    a = {}\n",
    "    for item in data:\n",
    "        try:\n",
    "            a[item[index]] += 1\n",
    "        except:\n",
    "            a[item[index]] = 1\n",
    "    entropy = 0.0\n",
    "    for key in a.keys():\n",
    "        p = 1.0 * a[key] / len(data)\n",
    "        entropy += p*log2(p)\n",
    "    return -entropy \n"
   ]
  },
  {
   "cell_type": "markdown",
   "metadata": {},
   "source": [
    "# 计算子集的熵"
   ]
  },
  {
   "cell_type": "code",
   "execution_count": 5,
   "metadata": {},
   "outputs": [],
   "source": [
    "def entropy2(data, attrIndex, tarIndex):\n",
    "    classes = classify(data, attrIndex)\n",
    "    e = 0.0\n",
    "    for key in classes.keys():\n",
    "        ent = entropy(classes[key], tarIndex)\n",
    "        e += ent * len(classes[key]) / len(data)\n",
    "    return e\n"
   ]
  },
  {
   "cell_type": "code",
   "execution_count": 6,
   "metadata": {},
   "outputs": [],
   "source": [
    "def gain(entropy, entropy2):\n",
    "    return entropy - entropy2\n"
   ]
  },
  {
   "cell_type": "markdown",
   "metadata": {},
   "source": [
    "# 决策树节点"
   ]
  },
  {
   "cell_type": "code",
   "execution_count": 10,
   "metadata": {},
   "outputs": [],
   "source": [
    "class TreeNode(object):\n",
    "    def __init__(self, data, index, attrIndexes):\n",
    "        self.decision = titles[index]\n",
    "        classes = classify(data, index) #根据属性分类\n",
    "        self.children = {}\n",
    "        children = classes.keys()\n",
    "        for child in children: #生成子树\n",
    "            data = classes[child]\n",
    "            self.children[child] = generateTree(data, list(attrIndexes))\n",
    "\n",
    "    def __str__(self):\n",
    "        return self.decision\n"
   ]
  },
  {
   "cell_type": "markdown",
   "metadata": {},
   "source": [
    "# 生成节点"
   ]
  },
  {
   "cell_type": "code",
   "execution_count": 11,
   "metadata": {},
   "outputs": [],
   "source": [
    "def generateTree(dataset, attrIndexes):\n",
    "    classes = classify(dataset, tarIndex)\n",
    "    if len(classes) == 1: #假如同一类\n",
    "        tree = dataset[0][tarIndex]\n",
    "    else:\n",
    "        e = entropy(dataset, tarIndex) #计算信息熵\n",
    "        gains = {}\n",
    "        maxIndex = attrIndexes[0]\n",
    "        for i in attrIndexes: #计算信息增益并找出信息增益最大的属性\n",
    "            gains[titles[i]] = gain(e, entropy2(dataset, i, tarIndex))\n",
    "            if gains[titles[i]] > gains[titles[maxIndex]]:\n",
    "                maxIndex = i\n",
    "        attrIndexSet = set(attrIndexes[:])\n",
    "        attrIndexSet.remove(maxIndex)\n",
    "        tree = TreeNode(dataset, maxIndex, attrIndexSet)\n",
    "    return tree\n"
   ]
  },
  {
   "cell_type": "markdown",
   "metadata": {},
   "source": [
    "# 显示决策树"
   ]
  },
  {
   "cell_type": "code",
   "execution_count": 12,
   "metadata": {},
   "outputs": [
    {
     "name": "stdout",
     "output_type": "stream",
     "text": [
      "Outlook\n",
      "Sunny:Humidity\n",
      "Humidity\n",
      "High:no\n",
      "Normal:yes\n",
      "Overcast:yes\n",
      "Rainy:Wind\n",
      "Wind\n",
      "Weak:yes\n",
      "Strong:no\n"
     ]
    }
   ],
   "source": [
    "def displayTree(tree):\n",
    "    if isinstance(tree, TreeNode):\n",
    "        print (tree)\n",
    "        for key in tree.children:\n",
    "            print (key + ':' + tree.children[key].__str__())\n",
    "            displayTree(tree.children[key])\n",
    "\n",
    "tarIndex = len(dataset[0]) - 1 #样本分类下标\n",
    "attrIndexes = range(0,tarIndex) #样本属性下标\n",
    "tree = generateTree(dataset, attrIndexes)\n",
    "displayTree(tree)\n"
   ]
  },
  {
   "cell_type": "code",
   "execution_count": null,
   "metadata": {},
   "outputs": [],
   "source": []
  },
  {
   "cell_type": "code",
   "execution_count": null,
   "metadata": {},
   "outputs": [],
   "source": []
  }
 ],
 "metadata": {
  "kernelspec": {
   "display_name": "Python 3",
   "language": "python",
   "name": "python3"
  },
  "language_info": {
   "codemirror_mode": {
    "name": "ipython",
    "version": 3
   },
   "file_extension": ".py",
   "mimetype": "text/x-python",
   "name": "python",
   "nbconvert_exporter": "python",
   "pygments_lexer": "ipython3",
   "version": "3.6.5"
  }
 },
 "nbformat": 4,
 "nbformat_minor": 2
}
