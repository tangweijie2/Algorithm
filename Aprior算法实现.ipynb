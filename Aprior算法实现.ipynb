{
 "cells": [
  {
   "cell_type": "code",
   "execution_count": 2,
   "metadata": {},
   "outputs": [],
   "source": [
    "from numpy import *\n",
    "import itertools"
   ]
  },
  {
   "cell_type": "markdown",
   "metadata": {},
   "source": [
    "## 生成原始数据"
   ]
  },
  {
   "cell_type": "code",
   "execution_count": 5,
   "metadata": {},
   "outputs": [],
   "source": [
    "#用于测试\n",
    "def loadDataSet():\n",
    "    return [[1, 3, 4], [2, 3, 5], [1, 2, 3, 5], [2, 5]]"
   ]
  },
  {
   "cell_type": "markdown",
   "metadata": {},
   "source": [
    "## 加载数据集"
   ]
  },
  {
   "cell_type": "code",
   "execution_count": 4,
   "metadata": {},
   "outputs": [],
   "source": [
    "#获取数据集中所有的一节元素\n",
    "def createC1(dataSet):\n",
    "    C1 = set([])\n",
    "    for item in dataSet:\n",
    "        C1 = C1.union(set(item))\n",
    "    return [frozenset([i]) for i in C1]"
   ]
  },
  {
   "cell_type": "code",
   "execution_count": 7,
   "metadata": {},
   "outputs": [],
   "source": [
    "# 定义支持度的字典\n",
    "support_dic = {}"
   ]
  },
  {
   "cell_type": "markdown",
   "metadata": {},
   "source": [
    "## 用最小支持度对Ck进行过滤，的带第k层剩下的数据集合"
   ]
  },
  {
   "cell_type": "code",
   "execution_count": 8,
   "metadata": {},
   "outputs": [],
   "source": [
    "def getLk(dataset, Ck, minSupport):# 输入数据库和由第K-1层数据融合后得到的第K层数据集，并且使用最小支持度过滤数据集\n",
    "    global support_dic\n",
    "    Lk = {}\n",
    "    #计算Ck中每个元素在数据库中出现次数\n",
    "    for item in dataset:\n",
    "        for Ci in Ck:\n",
    "            if Ci.issubset(item):\n",
    "                if not Ci in Lk:\n",
    "                    Lk[Ci] = 1\n",
    "                else:\n",
    "                    Lk[Ci] += 1\n",
    "    #用最小支持度过滤\n",
    "    Lk_return = []\n",
    "    for Li in Lk:\n",
    "        support_Li = Lk[Li] / float(len(dataSet))\n",
    "        if support_Li >= minSupport:\n",
    "            Lk_return.append(Li)\n",
    "            support_dic[Li] = support_Li\n",
    "    return Lk_return"
   ]
  },
  {
   "cell_type": "markdown",
   "metadata": {},
   "source": [
    "## 连接"
   ]
  },
  {
   "cell_type": "code",
   "execution_count": 9,
   "metadata": {},
   "outputs": [],
   "source": [
    "#将经过支持度过滤后的第K层数据集合LK融合\n",
    "#得到第K+1层原始数据Ck1\n",
    "def genLk1(Lk):\n",
    "    Ck1 = []\n",
    "    for i in range(len(Lk) - 1):\n",
    "        for j in range(i + 1, len(Lk)):\n",
    "            if sorted(list(Lk[i]))[0:-1] == sorted(list(Lk[j]))[0:-1]:\n",
    "                Ck1.append(Lk[i] | Lk[j])\n",
    "    return Ck1\n",
    " \n",
    "#遍历所有二阶及以上的频繁项集合\n",
    "def genItem(freqSet, support_dic):\n",
    "    for i in range(1, len(freqSet)):\n",
    "        for freItem in freqSet[i]:\n",
    "            genRule(freItem)"
   ]
  },
  {
   "cell_type": "markdown",
   "metadata": {},
   "source": [
    "## 输入频繁项集，根据“置信度”生成规则"
   ]
  },
  {
   "cell_type": "code",
   "execution_count": 11,
   "metadata": {},
   "outputs": [],
   "source": [
    "#采用递归，对规则树进行剪枝\n",
    "def genRule(Item, minConf=0.7):\n",
    "    if len(Item) >= 2:\n",
    "        for element in itertools.combinations(list(Item), 1):\n",
    "            if support_dic[Item] / float(support_dic[Item - frozenset(element)]) >= minConf:\n",
    "                print(str([Item - frozenset(element)]) + \"----->\" + str(element))\n",
    "                print (support_dic[Item] / float(support_dic[Item - frozenset(element)]))\n",
    "                genRule(Item - frozenset(element))"
   ]
  },
  {
   "cell_type": "markdown",
   "metadata": {},
   "source": [
    "## 结果展示"
   ]
  },
  {
   "cell_type": "code",
   "execution_count": 12,
   "metadata": {},
   "outputs": [
    {
     "name": "stdout",
     "output_type": "stream",
     "text": [
      "{frozenset({1}): 0.5, frozenset({3}): 0.75, frozenset({2}): 0.75, frozenset({5}): 0.75, frozenset({1, 3}): 0.5, frozenset({2, 3}): 0.5, frozenset({3, 5}): 0.5, frozenset({2, 5}): 0.75, frozenset({2, 3, 5}): 0.5}\n",
      "[frozenset({1})]----->(3,)\n",
      "1.0\n",
      "[frozenset({5})]----->(2,)\n",
      "1.0\n",
      "[frozenset({2})]----->(5,)\n",
      "1.0\n",
      "[frozenset({3, 5})]----->(2,)\n",
      "1.0\n",
      "[frozenset({2, 3})]----->(5,)\n",
      "1.0\n"
     ]
    }
   ],
   "source": [
    "if __name__ == '__main__':\n",
    "    dataSet = loadDataSet()\n",
    "    result_list = []\n",
    "    Ck = createC1(dataSet)\n",
    "    #循环生成频繁项集合，直至产生空集\n",
    "    while True:\n",
    "        Lk = getLk(dataSet, Ck, 0.5)\n",
    "        if not Lk:\n",
    "            break\n",
    "        result_list.append(Lk)\n",
    "        Ck = genLk1(Lk)\n",
    "        if not Ck:\n",
    "            break\n",
    "    #输出频繁项及其“支持度”\n",
    "    print(support_dic)\n",
    "    #输出规则\n",
    "    genItem(result_list, support_dic)"
   ]
  },
  {
   "cell_type": "code",
   "execution_count": null,
   "metadata": {},
   "outputs": [],
   "source": []
  }
 ],
 "metadata": {
  "kernelspec": {
   "display_name": "Python 3",
   "language": "python",
   "name": "python3"
  },
  "language_info": {
   "codemirror_mode": {
    "name": "ipython",
    "version": 3
   },
   "file_extension": ".py",
   "mimetype": "text/x-python",
   "name": "python",
   "nbconvert_exporter": "python",
   "pygments_lexer": "ipython3",
   "version": "3.6.5"
  }
 },
 "nbformat": 4,
 "nbformat_minor": 2
}
